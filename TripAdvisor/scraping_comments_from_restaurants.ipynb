{
 "cells": [
  {
   "cell_type": "code",
   "execution_count": 53,
   "metadata": {},
   "outputs": [],
   "source": [
    "#scrapping data from Trip advisor\n",
    "import requests             \n",
    "from bs4 import BeautifulSoup \n",
    "import sys\n",
    "import csv                  \n",
    "import webbrowser\n",
    "import io\n",
    "import re\n",
    "import pandas as pd"
   ]
  },
  {
   "cell_type": "code",
   "execution_count": 70,
   "metadata": {},
   "outputs": [],
   "source": [
    "\n",
    "# get urls\n",
    "urls=[]\n",
    "i = 0\n",
    "j = 0\n",
    "#j = 10\n",
    "#div_page = no_reviews // 10\n",
    "div_page = 72 // 10\n",
    "#print(div_page)\n",
    "while i < div_page+1:\n",
    "    page_num = str(j)\n",
    "    url='https://www.tripadvisor.com/Restaurant_Review-g189506-d3783851-or'+page_num+'-Reviews-Palia_Istoria-Trikala_Trikala_Region_Thessaly.html'\n",
    "    \n",
    "    urls.append(url)\n",
    "    j = j + 10\n",
    "    i=i+1\n",
    "    #print(url)\n",
    "\n",
    "\n",
    "#for k in urls:\n",
    "#    print(k)\n"
   ]
  },
  {
   "cell_type": "code",
   "execution_count": 71,
   "metadata": {},
   "outputs": [],
   "source": [
    "task_no =0\n",
    "review_data={}\n",
    "c_page=0"
   ]
  },
  {
   "cell_type": "code",
   "execution_count": 72,
   "metadata": {},
   "outputs": [],
   "source": [
    "counter_com = 0\n",
    "for url_i in urls:    \n",
    "    response= requests.get(url_i)\n",
    "    data = response.text\n",
    "    soup = BeautifulSoup(data,'html.parser')\n",
    "    reviews = soup.find_all('div',{'class':'review-container'})\n",
    "\n",
    "\n",
    "    #No of Reviewers \n",
    "    no_reviews = soup.find('span',{\"class\":\"count\"})\n",
    "    if no_reviews == None:\n",
    "        no_reviews = 'Undefined Number'\n",
    "\n",
    "    else:\n",
    "        no_reviews = no_reviews.text\n",
    "        no_reviews = int(re.search(r'\\d+', no_reviews).group(0))\n",
    "\n",
    "\n",
    "    for review in reviews:\n",
    "        ratingdates = review.find('span',{'class':'ratingDate'}).get('title')\n",
    "        ratings = float(review.find('span',{'class':re.compile(r'ui_bubble_rating bubble_*')}).get(\"class\")[1].split(\"_\")[1])/10\n",
    "        rating_title = review.find('span',{'class':'noQuotes'}).text\n",
    "        description = review.find('p',{'class':'partial_entry'}).text\n",
    "        site= 'Trip Advisor'\n",
    "        if ratings < 4:\n",
    "            groundTruth = 'negative'\n",
    "        else:\n",
    "            groundTruth = 'positive'\n",
    "        task_no=task_no + 1\n",
    "        review_data[task_no] = [ratings, ratingdates, description,rating_title,site, groundTruth]\n",
    "        #print(task_no, '\\nRatings:', ratings, '\\nDates:', ratingdates, '\\nDescription:', description,  '\\nTitle:',  rating_title, '\\nSite:', site ,'\\nGroundTruth:', groundTruth,'\\n---')\n",
    "\n",
    "\n",
    "\n"
   ]
  },
  {
   "cell_type": "code",
   "execution_count": 73,
   "metadata": {},
   "outputs": [
    {
     "data": {
      "text/plain": [
       "76"
      ]
     },
     "execution_count": 73,
     "metadata": {},
     "output_type": "execute_result"
    }
   ],
   "source": [
    "task_no"
   ]
  },
  {
   "cell_type": "code",
   "execution_count": 74,
   "metadata": {},
   "outputs": [],
   "source": [
    "review_df = pd.DataFrame.from_dict(review_data, orient = 'index', columns = ['Ratings','Review Date', 'Description', 'Review Title', 'Site', 'GroundTruth' ])"
   ]
  },
  {
   "cell_type": "code",
   "execution_count": 75,
   "metadata": {},
   "outputs": [
    {
     "data": {
      "text/html": [
       "<div>\n",
       "<style scoped>\n",
       "    .dataframe tbody tr th:only-of-type {\n",
       "        vertical-align: middle;\n",
       "    }\n",
       "\n",
       "    .dataframe tbody tr th {\n",
       "        vertical-align: top;\n",
       "    }\n",
       "\n",
       "    .dataframe thead th {\n",
       "        text-align: right;\n",
       "    }\n",
       "</style>\n",
       "<table border=\"1\" class=\"dataframe\">\n",
       "  <thead>\n",
       "    <tr style=\"text-align: right;\">\n",
       "      <th></th>\n",
       "      <th>Ratings</th>\n",
       "      <th>Review Date</th>\n",
       "      <th>Description</th>\n",
       "      <th>Review Title</th>\n",
       "      <th>Site</th>\n",
       "      <th>GroundTruth</th>\n",
       "    </tr>\n",
       "  </thead>\n",
       "  <tbody>\n",
       "    <tr>\n",
       "      <th>1</th>\n",
       "      <td>5.0</td>\n",
       "      <td>February 26, 2020</td>\n",
       "      <td>Everything was so good and delicious! The owne...</td>\n",
       "      <td>Our perfect lunch in Trikala</td>\n",
       "      <td>Trip Advisor</td>\n",
       "      <td>positive</td>\n",
       "    </tr>\n",
       "    <tr>\n",
       "      <th>2</th>\n",
       "      <td>5.0</td>\n",
       "      <td>January 18, 2020</td>\n",
       "      <td>The food was very good ! The pork knee was ama...</td>\n",
       "      <td>Amazing</td>\n",
       "      <td>Trip Advisor</td>\n",
       "      <td>positive</td>\n",
       "    </tr>\n",
       "    <tr>\n",
       "      <th>3</th>\n",
       "      <td>4.0</td>\n",
       "      <td>April 21, 2019</td>\n",
       "      <td>Enjoyed eating here on my first business trip ...</td>\n",
       "      <td>Honest tasty food at a sweet price</td>\n",
       "      <td>Trip Advisor</td>\n",
       "      <td>positive</td>\n",
       "    </tr>\n",
       "    <tr>\n",
       "      <th>4</th>\n",
       "      <td>5.0</td>\n",
       "      <td>December 1, 2018</td>\n",
       "      <td>We ate two days ago and the food was great! Wa...</td>\n",
       "      <td>Warn place with great food!</td>\n",
       "      <td>Trip Advisor</td>\n",
       "      <td>positive</td>\n",
       "    </tr>\n",
       "    <tr>\n",
       "      <th>5</th>\n",
       "      <td>5.0</td>\n",
       "      <td>July 14, 2018</td>\n",
       "      <td>This is only a couple of blocks from the hotel...</td>\n",
       "      <td>Wonderful eatery on the main restaurant district.</td>\n",
       "      <td>Trip Advisor</td>\n",
       "      <td>positive</td>\n",
       "    </tr>\n",
       "  </tbody>\n",
       "</table>\n",
       "</div>"
      ],
      "text/plain": [
       "   Ratings        Review Date  \\\n",
       "1      5.0  February 26, 2020   \n",
       "2      5.0   January 18, 2020   \n",
       "3      4.0     April 21, 2019   \n",
       "4      5.0   December 1, 2018   \n",
       "5      5.0      July 14, 2018   \n",
       "\n",
       "                                         Description  \\\n",
       "1  Everything was so good and delicious! The owne...   \n",
       "2  The food was very good ! The pork knee was ama...   \n",
       "3  Enjoyed eating here on my first business trip ...   \n",
       "4  We ate two days ago and the food was great! Wa...   \n",
       "5  This is only a couple of blocks from the hotel...   \n",
       "\n",
       "                                        Review Title          Site GroundTruth  \n",
       "1                       Our perfect lunch in Trikala  Trip Advisor    positive  \n",
       "2                                            Amazing  Trip Advisor    positive  \n",
       "3                 Honest tasty food at a sweet price  Trip Advisor    positive  \n",
       "4                       Warn place with great food!   Trip Advisor    positive  \n",
       "5  Wonderful eatery on the main restaurant district.  Trip Advisor    positive  "
      ]
     },
     "execution_count": 75,
     "metadata": {},
     "output_type": "execute_result"
    }
   ],
   "source": [
    "review_df.head(5)"
   ]
  },
  {
   "cell_type": "code",
   "execution_count": 76,
   "metadata": {},
   "outputs": [
    {
     "name": "stderr",
     "output_type": "stream",
     "text": [
      "C:\\Users\\Petros\\Anaconda3\\lib\\site-packages\\ipykernel_launcher.py:6: FutureWarning: Sorting because non-concatenation axis is not aligned. A future version\n",
      "of pandas will change to not sort by default.\n",
      "\n",
      "To accept the future behavior, pass 'sort=False'.\n",
      "\n",
      "To retain the current behavior and silence the warning, pass 'sort=True'.\n",
      "\n",
      "  \n"
     ]
    }
   ],
   "source": [
    "\n",
    "\n",
    "excel_path = \"C:\\\\Users\\\\Petros\\\\Desktop\\\\reviews.xlsx\"\n",
    "def append_df_to_excel(review_df, excel_path):\n",
    "    df_excel = pd.read_excel(excel_path)\n",
    "    result = pd.concat([df_excel, review_df], ignore_index=True)\n",
    "    result.to_excel(excel_path, index=False)\n",
    "\n",
    "\n",
    "append_df_to_excel(review_df, r\"C:\\\\Users\\\\Petros\\\\Desktop\\\\reviews.xlsx\")"
   ]
  },
  {
   "cell_type": "code",
   "execution_count": null,
   "metadata": {},
   "outputs": [],
   "source": []
  }
 ],
 "metadata": {
  "kernelspec": {
   "display_name": "Python 3",
   "language": "python",
   "name": "python3"
  },
  "language_info": {
   "codemirror_mode": {
    "name": "ipython",
    "version": 3
   },
   "file_extension": ".py",
   "mimetype": "text/x-python",
   "name": "python",
   "nbconvert_exporter": "python",
   "pygments_lexer": "ipython3",
   "version": "3.7.1"
  }
 },
 "nbformat": 4,
 "nbformat_minor": 4
}
